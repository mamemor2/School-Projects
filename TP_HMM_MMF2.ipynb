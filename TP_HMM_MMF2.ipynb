{
 "cells": [
  {
   "cell_type": "markdown",
   "metadata": {},
   "source": [
    "# EVALUATION DU MODULE 8 : HIDDEN MARKOV MODEL\n",
    "Mame-Mor FALL CES Data Science 2016"
   ]
  },
  {
   "cell_type": "markdown",
   "metadata": {},
   "source": [
    "Ce TP se déroule en deux parties. La première partie concerne les chaînes de Markov et est à finir absolument. Les plus rapides d’entre vous pourront aborder la deuxième partie qui traite des HMMs.\n",
    "\n",
    "### I.1 Fonctions dont vous pouvez avoir besoin\n",
    "cumsum : fonction de répartition : somme cumulative des termes du vecteur p\n",
    "import numpy as np\n",
    "np.cumsum(p)\n",
    "random : génère un nombre aléatoire entre [0 1] selon une loi uniforme.\n",
    "import numpy as np\n",
    "np.random.random()\n",
    "\n",
    "load : chargement d’un fichier\n",
    "filename_A= 'bigramenglish.txt'\n",
    "np.loadtxt(filename_A)\n",
    "\n",
    "### I.2 Chaîne de Markov\n",
    "On veut générer des mots dans une langue donnée en modélisant la formation de ces mots par une chaîne de Markov. Les 28 états du modèle correspondent aux 26 lettres de l’alphabet auxquelles et on ajoute un état ‘espace initial’ (état 1) et un état ‘espace final’ (état 28) qui sert à terminer les mots.\n",
    "La correspondance entre la valeur numérique d’un état et un caractère est la suivante : l’état 1 correspond à un espace (avant le début d’un mot) et l’état 28 à celui d’un espace en fin de mot. Les états 2 à 27 correspondent aux caractères de a à z. On pourra utiliser une structure de dictionnaire en python pour faire cette correspondance.\n",
    "On utilisera une chaîne de Markov ergodique entre les 26 états correspondants aux lettres de l’alphabet."
   ]
  },
  {
   "cell_type": "markdown",
   "metadata": {},
   "source": [
    "### I.2.a Matrice de transitions\n",
    "'bigramenglish.txt' contient la matrice des transitions pour l’anglais (bigrams) entre deux symboles (caractères ou espaces). Le terme générique (i,j) de la matrice de transition correspond à la probabilité de transiter vers l’état j à partir de l’état i.\n",
    "A quelles probabilités correspond la première ligne de la matrice de transition ? et celles de la dernière colonne ?\n",
    "Pour chaque lettre de l’alphabet, indiquer la transition la plus fréquente depuis cette lettre."
   ]
  },
  {
   "cell_type": "code",
   "execution_count": 1,
   "metadata": {
    "collapsed": false
   },
   "outputs": [
    {
     "name": "stdout",
     "output_type": "stream",
     "text": [
      "('le symbole', 'debut', 'est le plus souvent suivie de', 't')\n",
      "('le symbole', 'a', 'est le plus souvent suivie de', 'n')\n",
      "('le symbole', 'b', 'est le plus souvent suivie de', 'e')\n",
      "('le symbole', 'c', 'est le plus souvent suivie de', 'o')\n",
      "('le symbole', 'd', 'est le plus souvent suivie de', 'fin')\n",
      "('le symbole', 'e', 'est le plus souvent suivie de', 'fin')\n",
      "('le symbole', 'f', 'est le plus souvent suivie de', 'fin')\n",
      "('le symbole', 'g', 'est le plus souvent suivie de', 'fin')\n",
      "('le symbole', 'h', 'est le plus souvent suivie de', 'e')\n",
      "('le symbole', 'i', 'est le plus souvent suivie de', 'n')\n",
      "('le symbole', 'j', 'est le plus souvent suivie de', 'o')\n",
      "('le symbole', 'k', 'est le plus souvent suivie de', 'fin')\n",
      "('le symbole', 'l', 'est le plus souvent suivie de', 'e')\n",
      "('le symbole', 'm', 'est le plus souvent suivie de', 'e')\n",
      "('le symbole', 'n', 'est le plus souvent suivie de', 'fin')\n",
      "('le symbole', 'o', 'est le plus souvent suivie de', 'n')\n",
      "('le symbole', 'p', 'est le plus souvent suivie de', 'e')\n",
      "('le symbole', 'q', 'est le plus souvent suivie de', 'u')\n",
      "('le symbole', 'r', 'est le plus souvent suivie de', 'e')\n",
      "('le symbole', 's', 'est le plus souvent suivie de', 'fin')\n",
      "('le symbole', 't', 'est le plus souvent suivie de', 'h')\n",
      "('le symbole', 'u', 'est le plus souvent suivie de', 'r')\n",
      "('le symbole', 'v', 'est le plus souvent suivie de', 'e')\n",
      "('le symbole', 'w', 'est le plus souvent suivie de', 'a')\n",
      "('le symbole', 'x', 'est le plus souvent suivie de', 't')\n",
      "('le symbole', 'y', 'est le plus souvent suivie de', 'fin')\n",
      "('le symbole', 'z', 'est le plus souvent suivie de', 'e')\n",
      "('le symbole', 'fin', 'est le plus souvent suivie de', 'fin')\n"
     ]
    }
   ],
   "source": [
    "import numpy as np\n",
    "bigramenglish=np.loadtxt('bigramenglish.txt')\n",
    "np.shape(bigramenglish)\n",
    "max=np.zeros(28)\n",
    "dic={'1' : 'debut', '2' : 'a', '3' : 'b', '4': 'c', '5' : 'd', '6' : 'e', '7': 'f',  '8' : 'g', '9' : 'h', '10': 'i', '11': 'j',\n",
    "     '12' : 'k', '13' : 'l', '14': 'm', '15' : 'n', '16' : 'o', '17': 'p', '18' : 'q', '19' : 'r' , '20': 's',  '21' : 't', '22' : 'u',\n",
    "     '23': 'v',  '24' : 'w', '25' : 'x' , '26': 'y',  '27' : 'z', '28' : 'fin' }\n",
    "\n",
    "for i in range(28):\n",
    "    print (\"le symbole\",dic.get(str(i+1)),\"est le plus souvent suivie de\",dic.get(str(np.argmax(bigramenglish[i,:])+1)))\n"
   ]
  },
  {
   "cell_type": "code",
   "execution_count": 2,
   "metadata": {
    "collapsed": false
   },
   "outputs": [
    {
     "data": {
      "text/plain": [
       "(28, 28)"
      ]
     },
     "execution_count": 2,
     "metadata": {},
     "output_type": "execute_result"
    }
   ],
   "source": [
    "np.shape(bigramenglish)"
   ]
  },
  {
   "cell_type": "markdown",
   "metadata": {},
   "source": [
    "### I.2.b Générer un mot\n",
    "On veut générer un mot à partir de l’état initial 1 (espace).\n",
    "Ecrire une fonction qui génère un état (à t+1) à partir de l’état courant (à t) et à l’aide de la matrice de transitions et de la fonction de répartition.\n",
    "Afficher sur un graphique la fonction de répartition pour une ligne de la matrice de transition et expliquer son rôle pour la génération de l’état à t+1.\n",
    "Utiliser cette fonction pour générer les autres lettres du mot, état par état jusqu’à aboutir à l’état final (28). Donner des exemples de mots générés."
   ]
  },
  {
   "cell_type": "code",
   "execution_count": 3,
   "metadata": {
    "collapsed": false
   },
   "outputs": [],
   "source": [
    "#On écrit la fonction mot\n",
    "def mot (symbole='debut',dic=dic,bigram=bigramenglish):\n",
    "    print(symbole)\n",
    "    symb_suivant='None'\n",
    "    i=0\n",
    "    while i<28:\n",
    "    #for i in range(28):\n",
    "            \n",
    "            \n",
    "            if dic.get(str(i+1))==symbole:\n",
    "                tirage=np.random.random()\n",
    "                #print(\"tirage vaut\",tirage,\"i vaut\",i)\n",
    "                for j in range(29):\n",
    "                    if tirage<=np.sum(bigramenglish[i,0:j]):\n",
    "                        symb_suivant=dic.get(str(j))\n",
    "                        #print(\"j vaut\",j)\n",
    "                        print(symb_suivant)\n",
    "                        break\n",
    "                \n",
    "                symbole=symb_suivant\n",
    "                i=0\n",
    "            else:\n",
    "                i+=1\n",
    "            if symbole==\"fin\":\n",
    "                break\n",
    "                \n",
    "    return None"
   ]
  },
  {
   "cell_type": "code",
   "execution_count": 4,
   "metadata": {
    "collapsed": false
   },
   "outputs": [
    {
     "name": "stderr",
     "output_type": "stream",
     "text": [
      "/home/reddowan/anaconda2/lib/python2.7/site-packages/matplotlib/font_manager.py:273: UserWarning: Matplotlib is building the font cache using fc-list. This may take a moment.\n",
      "  warnings.warn('Matplotlib is building the font cache using fc-list. This may take a moment.')\n"
     ]
    },
    {
     "data": {
      "image/png": "[encoded data removed]",
      "text/plain": [
       "<matplotlib.figure.Figure at 0x7f20a01dda10>"
      ]
     },
     "metadata": {},
     "output_type": "display_data"
    }
   ],
   "source": [
    "import matplotlib.pyplot as plt\n",
    "\n",
    "%matplotlib inline\n",
    "\n",
    "for i in range(27):\n",
    "    symbole=dic.get(str(i+1))\n",
    "    plt.bar(range(len(dic)),np.cumsum(bigramenglish[i,:]))\n",
    "    \"\"\"plt.title(\"Fonction de repartition du symbole suivant pour\",symbole)\"\"\"\n",
    "    plt.xticks(range(len(dic)),dic.values())\n",
    "    plt.bar(dic,np.cumsum(bigramenglish[i,:]))\n"
   ]
  },
  {
   "cell_type": "code",
   "execution_count": 5,
   "metadata": {
    "collapsed": false
   },
   "outputs": [
    {
     "name": "stdout",
     "output_type": "stream",
     "text": [
      "debut\n",
      "o\n",
      "w\n",
      "o\n",
      "r\n",
      "fin\n",
      "t\n",
      "h\n",
      "e\n",
      "f\n",
      "i\n",
      "e\n",
      "fin\n"
     ]
    }
   ],
   "source": [
    "#la fonction mot imprime la suite de caractère les uns à la suite des autres jusqu'à constituer trouver le symbole de fin de mot.\n",
    "mot()\n",
    "\n",
    "mot(symbole=\"t\")"
   ]
  },
  {
   "cell_type": "markdown",
   "metadata": {},
   "source": [
    "### I.2.c Générer une phrase\n",
    "On veut générer une suite de mots (phrase). Créer un état final de phrase (état 29) dont la\n",
    "probabilité de transition vers cet état depuis un état final de mot est 0.1. Modifier la matrice de\n",
    "transition en conséquence. Donner des exemples de phrases générées."
   ]
  },
  {
   "cell_type": "code",
   "execution_count": 6,
   "metadata": {
    "collapsed": false
   },
   "outputs": [
    {
     "name": "stdout",
     "output_type": "stream",
     "text": [
      "{'24': 'w', '25': 'x', '26': 'y', '27': 'z', '20': 's', '21': 't', '22': 'u', '23': 'v', '28': 'fin', '29': 'endofphrase', '1': 'debut', '3': 'b', '2': 'a', '5': 'd', '4': 'c', '7': 'f', '6': 'e', '9': 'h', '8': 'g', '11': 'j', '10': 'i', '13': 'l', '12': 'k', '15': 'n', '14': 'm', '17': 'p', '16': 'o', '19': 'r', '18': 'q'}\n"
     ]
    }
   ],
   "source": [
    "dic['29']=\"endofphrase\"\n",
    "print(dic)"
   ]
  },
  {
   "cell_type": "code",
   "execution_count": 7,
   "metadata": {
    "collapsed": false
   },
   "outputs": [],
   "source": [
    "# On ajoute une colonne endofphrase qui ajoute une probabilité de l'état fin de phrase après un symbole. Cette probabilité est de 0.1\n",
    "new_bigramenglish=(np.hstack((bigramenglish,np.array([[0.1],[0.1],[0.1],[0.1],[0.1],[0.1],[0.1],[0.1],[0.1],[0.1],[0.1],[0.1],[0.1],[0.1],[0.1],[0.1],[0.1],[0.1],[0.1],[0.1],[0.1],[0.1],[0.1],[0.1],[0.1],[0.1],[0.1],[0.1]]))))"
   ]
  },
  {
   "cell_type": "code",
   "execution_count": 8,
   "metadata": {
    "collapsed": false
   },
   "outputs": [],
   "source": [
    "# Il faut normaliser les probabilités par ligne car avec l'ajout de la colonne endofphrase elles ne sommes plus à 1\n",
    "# Attention avec cette normalisation la probabilité de fin de phrase après chaque symbole ne sera pas de 0.1 comme \n",
    "#demandé dans l'énoncé nous en avons conscience mais ne voulons pas passer de temps à construire un modèle pour \n",
    "# atteindre parfaitement cette probabilité qui n'est pas l'essentiel \n",
    "from sklearn.preprocessing import normalize\n",
    "new_bigramenglish = normalize(new_bigramenglish, axis=1, norm='l1')"
   ]
  },
  {
   "cell_type": "code",
   "execution_count": 9,
   "metadata": {
    "collapsed": false
   },
   "outputs": [
    {
     "data": {
      "text/plain": [
       "array([ 1.,  1.,  1.,  1.,  1.,  1.,  1.,  1.,  1.,  1.,  1.,  1.,  1.,\n",
       "        1.,  1.,  1.,  1.,  1.,  1.,  1.,  1.,  1.,  1.,  1.,  1.,  1.,\n",
       "        1.,  1.])"
      ]
     },
     "execution_count": 9,
     "metadata": {},
     "output_type": "execute_result"
    }
   ],
   "source": [
    "np.sum(new_bigramenglish,axis=1)"
   ]
  },
  {
   "cell_type": "code",
   "execution_count": 10,
   "metadata": {
    "collapsed": false
   },
   "outputs": [],
   "source": [
    "#On écrit la fonction qui génère les phrase   \n",
    "def phrase (symbole='debut',dic=dic,bigram=new_bigramenglish):\n",
    "    print(symbole)\n",
    "    symb_suivant='None'\n",
    "    i=0\n",
    "    while i<28:\n",
    "    #for i in range(28):\n",
    "            \n",
    "            \n",
    "            if dic.get(str(i+1))==symbole:\n",
    "                tirage=np.random.random()\n",
    "                #print(\"tirage vaut\",tirage,\"i vaut\",i)\n",
    "                for j in range(30):\n",
    "                    if tirage<=np.sum(new_bigramenglish[i,0:j]):\n",
    "                        symb_suivant=dic.get(str(j))\n",
    "                        #print(\"j vaut\",j)\n",
    "                        print(symb_suivant)\n",
    "                        break\n",
    "                \n",
    "                symbole=symb_suivant\n",
    "                i=0\n",
    "            else:\n",
    "                i+=1\n",
    "            \n",
    "            if symbole==\"fin\":\n",
    "                symbole=\"debut\"\n",
    "                \n",
    "            if symbole==\"endofphrase\":\n",
    "                break\n",
    "                \n",
    "    return None"
   ]
  },
  {
   "cell_type": "code",
   "execution_count": 11,
   "metadata": {
    "collapsed": false
   },
   "outputs": [
    {
     "name": "stdout",
     "output_type": "stream",
     "text": [
      "debut\n",
      "t\n",
      "i\n",
      "g\n",
      "h\n",
      "e\n",
      "endofphrase\n"
     ]
    }
   ],
   "source": [
    "phrase()"
   ]
  },
  {
   "cell_type": "markdown",
   "metadata": {},
   "source": [
    "### I.3 Reconnaissance de la langue\n",
    "Calculer la vraisemblance de la phrase « to be or not to be » (multiplier les probabilités de\n",
    "transition) en fonction du modèle de langue, anglaise et française. De même calculer la\n",
    "vraisemblance de “etre ou ne pas etre” suivant les deux modèles. Charger la matrice des\n",
    "transitions entre caractères pour le français."
   ]
  },
  {
   "cell_type": "code",
   "execution_count": 12,
   "metadata": {
    "collapsed": false
   },
   "outputs": [
    {
     "data": {
      "text/plain": [
       "(28, 28)"
      ]
     },
     "execution_count": 12,
     "metadata": {},
     "output_type": "execute_result"
    }
   ],
   "source": [
    "bigramfrancais=np.loadtxt('bigramfrancais.txt')\n",
    "np.shape(bigramfrancais)"
   ]
  },
  {
   "cell_type": "code",
   "execution_count": 13,
   "metadata": {
    "collapsed": false
   },
   "outputs": [
    {
     "ename": "SyntaxError",
     "evalue": "invalid syntax (<ipython-input-13-87620d2ff21b>, line 3)",
     "output_type": "error",
     "traceback": [
      "\u001b[1;36m  File \u001b[1;32m\"<ipython-input-13-87620d2ff21b>\"\u001b[1;36m, line \u001b[1;32m3\u001b[0m\n\u001b[1;33m    *bigramenglish[6,28]*bigramenglish[0,16]*bigramenglish[16,19]*bigramenglish[19,28]*bigramenglish[0,15]*bigramenglish[15,16]*\u001b[0m\n\u001b[1;37m    ^\u001b[0m\n\u001b[1;31mSyntaxError\u001b[0m\u001b[1;31m:\u001b[0m invalid syntax\n"
     ]
    }
   ],
   "source": [
    "#On multiplie les valeurs des transitions correspondants aux successions de symboles, sans oublier Debut et Fin apres chaque mot et la fin de phrase apres le dernier fin\n",
    "vraissemblanceenglish_tobeornottobe=bigramenglish[0,21]*bigramenglish[21,16]*bigramenglish[16,28]*bigramenglish[0,2]*bigramenglish[2,6]\n",
    "*bigramenglish[6,28]*bigramenglish[0,16]*bigramenglish[16,19]*bigramenglish[19,28]*bigramenglish[0,15]*bigramenglish[15,16]*\n",
    "bigramenglish[16,21]*bigramenglish[21,28]*bigramenglish[0,21]*bigramenglish[21,16]*bigramenglish[16,28]*bigramenglish[0,2]*\n",
    "bigramenglish[2,6]*bigramenglish[6,28]*bigramenglish[28,29]\n",
    "#Pour calculer n'importe quelle probabilité de succesion de symbole il suffit de réaliser la même procédure."
   ]
  },
  {
   "cell_type": "code",
   "execution_count": 14,
   "metadata": {
    "collapsed": false
   },
   "outputs": [
    {
     "name": "stdout",
     "output_type": "stream",
     "text": [
      "{'24': 'w', '25': 'x', '26': 'y', '27': 'z', '20': 's', '21': 't', '22': 'u', '23': 'v', '28': 'fin', '29': 'endofphrase', '1': 'debut', '3': 'b', '2': 'a', '5': 'd', '4': 'c', '7': 'f', '6': 'e', '9': 'h', '8': 'g', '11': 'j', '10': 'i', '13': 'l', '12': 'k', '15': 'n', '14': 'm', '17': 'p', '16': 'o', '19': 'r', '18': 'q'}\n"
     ]
    }
   ],
   "source": [
    "print(dic)"
   ]
  },
  {
   "cell_type": "markdown",
   "metadata": {},
   "source": [
    "### II.1 Introduction\n",
    "L’objectif de cette partie est de générer des séquences d’observations suivant un modèle de\n",
    "Markov Caché donné, puis de calculer la vraisemblance d’une séquence d’observations\n",
    "suivant un modèle de Markov Caché donné.\n",
    "Le modèle de Markov est de type discret. Les classes de caractères (classes 0, 1, 7) sont\n",
    "modélisées chacune par un modèle à Q=5 états de type gauche-droite. Les états 1 et 5\n",
    "correspondent à des colonnes de pixels de type fond de l’image (niveau 0). Les états 2, 3 et 4\n",
    "correspondent au début, milieu et fin du caractère respectivement. Les transitions entre états\n",
    "sont indiquées dans la matrice de transitions A de taille QxQ. Les vecteurs π sont tous égaux à\n",
    "π=(1 0 0 0 0). Les séquences d’états commencent donc toujours par l’état q1=1.\n",
    "\n",
    "Les séquences d’observations sont discrètes et issues d’images de chiffres de la base MNIST.\n",
    "Les séquences d’observations consistent en séquences d’index (symboles) des éléments du\n",
    "dictionnaire. Ce dictionnaire est stocké sous forme matricielle (matrice v) dans le fichier\n",
    "matrice_symboles. L’élément numéro i d’une séquence d’observations correspond au\n",
    "symbole i et donc à la colonne i de la matrice v. Un symbole correspond à une configuration\n",
    "de colonne de 5 pixels (binaires : noir/blanc). Il y a 25=32 configurations, et donc symboles\n",
    "possibles.\n",
    "Une séquence d’observations correspondant à l’image simplifiée de la fig. 1 est :\n",
    "[1 1 1 1 1 1 14 23 23 27 18 18 18 12 12 12 12 12 12 12 23 23 23 14 4 1 1 1]\n",
    "La concaténation des éléments du dictionnaire correspondant aux index de la séquence\n",
    "d’observations peut être visualisée sous forme d’image en remplaçant chaque index par le\n",
    "vecteur de pixels correspondant dans le dictionnaire (Fig. 2).\n",
    "\n",
    "Les probabilités des observations dans chaque état sont indiquées dans la matrice B (32\n",
    "lignes, 5 colonnes)."
   ]
  },
  {
   "cell_type": "markdown",
   "metadata": {},
   "source": [
    "### II.2 Génération de séquences d'observations\n",
    "Les matrices A0.txt, B0.txt, vect_p0.txt contiennent les matrices A, B, et le vecteur π\n",
    "correspondant au modèle de Markov caché du chiffre 0. Le fichier matrice_symboles.txt\n",
    "contient le dictionnaire. Charger ces fichiers depuis le site pédagogique.\n",
    "A quoi correspondent les zéros de la matrice B ? et ceux de la matrice A et du vecteur\n",
    "π ?"
   ]
  },
  {
   "cell_type": "code",
   "execution_count": 15,
   "metadata": {
    "collapsed": true
   },
   "outputs": [],
   "source": [
    "A0=np.loadtxt('data_txt_compact/A0.txt')\n",
    "B0=np.loadtxt('data_txt_compact/B0.txt')\n",
    "vect_pi0=np.loadtxt('data_txt_compact/vect_pi0.txt')\n",
    "matrice_symboles=np.loadtxt('data_txt_compact/matrice_symboles.txt')"
   ]
  },
  {
   "cell_type": "code",
   "execution_count": 24,
   "metadata": {
    "collapsed": false
   },
   "outputs": [
    {
     "data": {
      "text/plain": [
       "array([[ 0.84178118,  0.15821882, -0.        , -0.        , -0.        ],\n",
       "       [-0.        ,  0.7886163 ,  0.2113837 , -0.        , -0.        ],\n",
       "       [-0.        , -0.        ,  0.86339743,  0.13660257, -0.        ],\n",
       "       [-0.        , -0.        , -0.        ,  0.79150194,  0.20849806],\n",
       "       [-0.        , -0.        , -0.        , -0.        ,  1.        ]])"
      ]
     },
     "execution_count": 24,
     "metadata": {},
     "output_type": "execute_result"
    }
   ],
   "source": [
    "A0"
   ]
  },
  {
   "cell_type": "markdown",
   "metadata": {},
   "source": [
    "Les zéros des matrices A, B et pi correspondent à des probabilités nulles pour les états correspondants. Par exemple les zéros du vecteur pi0 correspondent à la probabilité nulle pour les états 2,3,4,5. L'état 1 a une probabilité de 1 (donc colonne de pixel de type fond de l'image niveau 0)."
   ]
  },
  {
   "cell_type": "markdown",
   "metadata": {},
   "source": [
    "Ecrire une fonction etat_suivant qui génère un état qt+1(à t+1) à partir de l’état courant qt\n",
    "(à t) à l’aide de la matrice de transitions et de la fonction de répartition cumsum.\n",
    "Afficher la fonction de répartition pour une ligne de la matrice de transition et expliquer son\n",
    "rôle pour la génération de l’état à t+1."
   ]
  },
  {
   "cell_type": "code",
   "execution_count": 79,
   "metadata": {
    "collapsed": false
   },
   "outputs": [],
   "source": [
    "def etat_suivant (etat=vect_pi0,A=A0):\n",
    "    etat_suivant=np.zeros(5)\n",
    "    for i in range(5):\n",
    "        if etat[i]==1:\n",
    "            #print(\"i vaut\",i)\n",
    "            tirage=np.random.random()\n",
    "            for j in range(5):\n",
    "                #print(\"j vaut\",j)\n",
    "                if tirage<=np.sum(A[i,0:j]):\n",
    "                    etat_suivant[j-1]=1\n",
    "                    #print(\"somme vaut\",np.sum(A[i,0:j]))\n",
    "                    #print(\"j vaut\",j)\n",
    "                    break\n",
    "    return etat_suivant"
   ]
  },
  {
   "cell_type": "code",
   "execution_count": 81,
   "metadata": {
    "collapsed": false
   },
   "outputs": [
    {
     "data": {
      "text/plain": [
       "array([ 1.,  0.,  0.,  0.,  0.])"
      ]
     },
     "execution_count": 81,
     "metadata": {},
     "output_type": "execute_result"
    }
   ],
   "source": [
    "#La fonction passe à 1 l'état 1,2,3,4 ou 5 en fonction du tirage aléatoire et de la matrice de transition A0.\n",
    "#Dans notre cas en utilisant vect_pi0 on observe que les 2 possibilités dans la matrice de transitions sont de rester\n",
    "#à l'état 1 ou de passer à l'état 2.\n",
    "etat_suivant()"
   ]
  },
  {
   "cell_type": "code",
   "execution_count": 75,
   "metadata": {
    "collapsed": false
   },
   "outputs": [
    {
     "ename": "ValueError",
     "evalue": "axis(=1) out of bounds",
     "output_type": "error",
     "traceback": [
      "\u001b[1;31m---------------------------------------------------------------------------\u001b[0m",
      "\u001b[1;31mValueError\u001b[0m                                Traceback (most recent call last)",
      "\u001b[1;32m<ipython-input-75-2b8fc573d137>\u001b[0m in \u001b[0;36m<module>\u001b[1;34m()\u001b[0m\n\u001b[1;32m----> 1\u001b[1;33m \u001b[0mnp\u001b[0m\u001b[1;33m.\u001b[0m\u001b[0mcumsum\u001b[0m\u001b[1;33m(\u001b[0m\u001b[0mA0\u001b[0m\u001b[1;33m[\u001b[0m\u001b[1;36m0\u001b[0m\u001b[1;33m]\u001b[0m\u001b[1;33m,\u001b[0m\u001b[0maxis\u001b[0m\u001b[1;33m=\u001b[0m\u001b[1;36m1\u001b[0m\u001b[1;33m)\u001b[0m\u001b[1;33m\u001b[0m\u001b[0m\n\u001b[0m",
      "\u001b[1;32m/home/reddowan/anaconda2/lib/python2.7/site-packages/numpy/core/fromnumeric.pyc\u001b[0m in \u001b[0;36mcumsum\u001b[1;34m(a, axis, dtype, out)\u001b[0m\n\u001b[0;32m   2108\u001b[0m     \u001b[1;32mexcept\u001b[0m \u001b[0mAttributeError\u001b[0m\u001b[1;33m:\u001b[0m\u001b[1;33m\u001b[0m\u001b[0m\n\u001b[0;32m   2109\u001b[0m         \u001b[1;32mreturn\u001b[0m \u001b[0m_wrapit\u001b[0m\u001b[1;33m(\u001b[0m\u001b[0ma\u001b[0m\u001b[1;33m,\u001b[0m \u001b[1;34m'cumsum'\u001b[0m\u001b[1;33m,\u001b[0m \u001b[0maxis\u001b[0m\u001b[1;33m,\u001b[0m \u001b[0mdtype\u001b[0m\u001b[1;33m,\u001b[0m \u001b[0mout\u001b[0m\u001b[1;33m)\u001b[0m\u001b[1;33m\u001b[0m\u001b[0m\n\u001b[1;32m-> 2110\u001b[1;33m     \u001b[1;32mreturn\u001b[0m \u001b[0mcumsum\u001b[0m\u001b[1;33m(\u001b[0m\u001b[0maxis\u001b[0m\u001b[1;33m,\u001b[0m \u001b[0mdtype\u001b[0m\u001b[1;33m,\u001b[0m \u001b[0mout\u001b[0m\u001b[1;33m)\u001b[0m\u001b[1;33m\u001b[0m\u001b[0m\n\u001b[0m\u001b[0;32m   2111\u001b[0m \u001b[1;33m\u001b[0m\u001b[0m\n\u001b[0;32m   2112\u001b[0m \u001b[1;33m\u001b[0m\u001b[0m\n",
      "\u001b[1;31mValueError\u001b[0m: axis(=1) out of bounds"
     ]
    }
   ],
   "source": []
  },
  {
   "cell_type": "markdown",
   "metadata": {},
   "source": [
    "Générer une séquence d’observations suivant le modèle de Markov Caché du chiffre 0.\n",
    "On commencera par générer une séquence d’états suivant ce modèle à l’aide de la fonction\n",
    "etat_suivant. Puis on générera la séquence d’observations par le même procédé."
   ]
  },
  {
   "cell_type": "markdown",
   "metadata": {},
   "source": [
    "Visualiser le résultat sous forme d’image. Générer des séquences pour le chiffre 7 et le\n",
    "chiffre 1 (matrices B1.txt, B7.txt, etc…)"
   ]
  },
  {
   "cell_type": "markdown",
   "metadata": {},
   "source": [
    "### II.3 Calcul de la vraisemblance de séquences d’observations\n",
    "Les fichiers SeqTest0.txt, SeqTest1.txt, SeqTest7.txt contiennent chacun 10 séquences\n",
    "d’observations de chiffres des 3 classes 0, 1 et 7, disposés en ligne. Le script suivant extrait la\n",
    "5ème observation de la 3ème séquence des chiffres 0.\n",
    "Calculer la vraisemblance de ces séquences suivant chacun des modèles (0, 1 et 7) par\n",
    "l’algorithme de Viterbi (on pourra implémenter la version logarithmique de cet algorithme).\n",
    "Pour cela les matrices A, B et π seront converties en logarithmes (utiliser np.log)."
   ]
  },
  {
   "cell_type": "markdown",
   "metadata": {},
   "source": [
    "Donner le résultat de la classification des images de test en considérant un problème à\n",
    "trois classes : 0, 1 et 7."
   ]
  },
  {
   "cell_type": "markdown",
   "metadata": {},
   "source": []
  }
 ],
 "metadata": {
  "kernelspec": {
   "display_name": "Python 2",
   "language": "python",
   "name": "python2"
  },
  "language_info": {
   "codemirror_mode": {
    "name": "ipython",
    "version": 2
   },
   "file_extension": ".py",
   "mimetype": "text/x-python",
   "name": "python",
   "nbconvert_exporter": "python",
   "pygments_lexer": "ipython2",
   "version": "2.7.11"
  }
 },
 "nbformat": 4,
 "nbformat_minor": 0
}
