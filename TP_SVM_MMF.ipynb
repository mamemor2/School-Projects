{
 "cells": [
  {
   "cell_type": "markdown",
   "metadata": {},
   "source": [
    "# EVALUATION DU MODULE 6 : SVM\n",
    "Mame-Mor Fall CES Data Science 2016"
   ]
  },
  {
   "cell_type": "markdown",
   "metadata": {},
   "source": [
    "Consignes : Vous rédigerez un compte-rendu détaillé de ce travail pratique (jusqu’à la question 11),\n",
    "incluant des réponses littérales, numériques et graphiques, ainsi que les implémentations Python réalisées.\n",
    "Votre compte-rendu prendra la forme d’un unique document linéaire IPython Notebook (.ipynb). Votre\n",
    "code devra être commenté de sorte à faire clairement apparaître les différentes parties et questions de ce\n",
    "travail pratique, ainsi que les opérations élémentaires réalisées dans vos implémentations. Le code Python\n",
    "devra être exécutable par le correcteur et vos résultats reproductibles. Ce compte-rendu est à envoyer\n",
    "par courriel à maxime.sangnier@telecom-paristech.fr au plus tard le lundi 20 mai 2016 à 23h59. Seuls\n",
    "les documents effectivement reçus avant ce moment seront corrigés et notés.\n",
    "\n",
    "## Questions\n",
    "\n",
    "### Approche intuitive\n",
    "1.Exécuter le script svm_gui.py. Il permet d’évaluer en temps réel l’impact du choix du noyau et du\n",
    "paramètre de régularisation C. Effectuer quelques tests (données linéairement séparables ou non,\n",
    "unimodales ou non, différents noyaux et paramètres) et commenter les observations. En particulier,\n",
    "pour des données unimodales (séparables puis avec recouvrement des classes), comment réagit\n",
    "le classifieur (frontière et marge) en fonction du choix de C d’abord (noyau linéaire) puis de γ\n",
    "(paramètre du noyau gaussien) ? Le choix de ces paramètres est-il crucial pour obtenir de bons taux\n",
    "de reconnaissance ?"
   ]
  },
  {
   "cell_type": "markdown",
   "metadata": {},
   "source": [
    "Données linéairement séparables :\n",
    "Impact du choix de C\n",
    "\n",
    "On observe que pour des données linéairement séparables le choix de C n'a aucun impact sur le positionnement des vecteurs support, ce qui est normal car C est un paramètre de \"régularisation\" qui agit comme un compromis biais-variance en pénalisant le choix de vecteurs support minimisant la fonction de coût mais trop \"éloigné\" des données d'apprentissage. Dans notre cas où les données sont parfaitement séparables nous n'avons pas ce problème.\n",
    "\n",
    "Impact du choix du noyau gaussien\n",
    "\n",
    "Le noyau gaussien fait partie d'un ensemble de techniques appellées \"kernel trick\" qui permet de transformer l'espace de réprésentation des données vers un espace de plus grande dimension où les données seraient linéairement séparables. Dans le cas du noyau gaussien, un espace de dimension infinie. Ici on observe que l'hyperplan séparateur n'est plus linéaire mais courbé autour des données pour les séparer en deux espaces. Les vecteurs supports passent par les données mais leur interprétation est moins évidente.\n",
    "\n",
    "Impact du choix du noyau polynomial\n",
    "\n",
    "Le noyau polynomial donne également un hyperplan séparateur et des vecteurs supports courbés qui passent bien par les points des deux classes les plus proches de l'hyperplan séparateur.\n",
    "\n",
    "Données linéairement non-séparables :\n",
    "Impact du choix de C\n",
    "\n",
    "On observe qu'avec des \"outliers\", des point des deux classes qui se situent au sein de l'autre classe (données non linéairement séparables), plus le terme de régularisation C est grand plus les vecteurs supports \"s'éloignent\" des données pour aller chercher les outliers. Ce qui correspond bien au comportement attendu.\n",
    "\n",
    "Impact du choix du noyau gaussien\n",
    "\n",
    "Ici le choix d'un noyau pour permettre de séparer les données prend tout son sens. Le noyau gaussien permet de s'affranchir de l'hyperplan séparateur linéaire pour obtenir un hyperplan courbé dans l'espace de réprésentation originel des données et sépare parfaitement les deux classes. Le choix du paramètre gamma permet d'ajuster la \"distance\" de l'hyperplan séparateur aux données. Gamma est un paramètre sur la distance euclidienne des données au séparateur de classe.\n",
    "\n",
    "Impact du choix du noyau polynomial\n",
    "\n",
    "Avec le noyau polynomial de degré 3, dans l'exemple que j'ai réalisé, les données sont bien séparées en deux classes et les vecteurs supports passent bien par les points les plus proches de l'hyperplan séparateur. Le noyau polynomial transforme l'espace originel des données en un espace contenant de nouvelles dimensions qui sont les produits croisés des features pour y trouver un hyperplan séparateur linéaire dans ce nouvel espace. Dans l'espace d'origine l'hyperplan séparateur est ainsi non linéaire. Dans notre cas les courbures de l'hyperplan sont difficiles à interpréter. On peut réduire le nombre de degré (donc la flexibilité) de l'hyperplan séparateur de 3 à 2 pour obtenir une frontière plus interprétable. Attention le choix de l'intercept aussi a une influence sur le l'hyperplan séparateur, dans ce cas, plus il sera élevé plus il sera prépondérant dans l'espace de dimension supérieur transformant le séparateur courbé en un quasi plan linéaire dans l'espace originel. \n",
    "\n",
    "On conclue donc que l'astuce du noyau est un outil puissant dans le cas de données non linéairement séparables mais personnellement mon opinion est que dans un soucis d'interprétabilité des résultats on sera attentif à son analyse.\n"
   ]
  },
  {
   "cell_type": "markdown",
   "metadata": {},
   "source": [
    "2.Estimer un classifieur linéaire sur des données unimodales avec recouvrement des classes puis rajouter\n",
    "des points un par un. Quelles sont les trois zones d’intérêt et comment réagit le classifieur lors\n",
    "de l’ajout d’un point dans l’une de ces zones ? Que dire de la variable duale αi associée à chaque\n",
    "point xi en fonction des zones."
   ]
  },
  {
   "cell_type": "markdown",
   "metadata": {},
   "source": [
    "Zone 1 : Nouveau point derrière le vecteur support\n",
    "\n",
    "Le SVC ou classifieur à plus large marge par sa fonction de perte \"charnière\" ou hinge n'est pas modifié par tous les points qui seraient correctement classifié de fait (derrière le vecteur support). L'ajout d'un nouveau point \"correctement\" classifié n'a donc aucun impact sur le positionnement des vecteurs supports, ceci est une différence majeure par rapport à d'autres classifieurs. Aplha, solution du problème dual, est nul pour ces points.\n",
    "\n",
    "Zone 2 : Nouveau point entre le vecteur support et l'hyperplan séparateur\n",
    "\n",
    "Dans cette zone, on observe un repositionnement du vecteur support pour s'aligner sur l'hyperplan linéaire séparateur qui passe par les points des deux classes les plus proches. Alpha n'est pas nul pour ces points, ce qui entraîne une modification des vecteurs supports.\n",
    "\n",
    "Zone 3 : Nouveau point derrière le vecteur support opposé\n",
    "\n",
    "Lorsqu'un nouveau point est ajouté derrière le vecteur support opposé les données deviennent non linéairement séparables. C'est à ce moment qu'en fonction du paramètre de régularisation C, le SVC va repositionner les vecteurs supports pour réduire le \"coût\" payé pour la mauvaise classification de ce nouveau point. Plus le paramètre de régularisation C grand plus le SVC va déplacer les vecteurs supports pour diminuer ce coût."
   ]
  },
  {
   "cell_type": "markdown",
   "metadata": {},
   "source": [
    "3.Générer un jeu de données très déséquilibré (beaucoup plus de points dans une classe que dans\n",
    "l’autre). Avec un noyau linéaire, diminuer progressivement la valeur de C. Commenter. Ce phénomène\n",
    "peut être corrigé en pondérant d’avantage l’attache aux données sur la classe la moins présente\n",
    "(paramètre class_weight de sklearn.svm.SVC)."
   ]
  },
  {
   "cell_type": "markdown",
   "metadata": {},
   "source": [
    "Comme précédemment, on observe que plus C est petit (paramètre de régularisation) plus les points appartenants aux données sont sur les vecteurs supports."
   ]
  },
  {
   "cell_type": "markdown",
   "metadata": {},
   "source": [
    "### Classification\n",
    "4.À partir de la documentation : http://scikit-learn.org/stable/modules/svm.html, écrire un\n",
    "script estimant une SVM sur les classes 1 et 2 du jeu de donnée iris. Vous n’utiliserez que les deux\n",
    "premières variables et un noyau linéaire. Afficher le score moyen et la frontière de décision (utiliser\n",
    "les fonctions plot_2d et frontiere du fichier utils.py)."
   ]
  },
  {
   "cell_type": "markdown",
   "metadata": {},
   "source": [
    "On importe les données de la base de données Iris (dataset contenant 150x4 observations de trois différents types de fleur Iris les Setosa, les Versicolour et les Virginica décrites selon la longueur du sépale, sa largueur, la longueur du pétale et sa largueur).\n",
    "\n",
    "On importe également le classifieur et on oublie pas de normaliser les variables pour mieux prendre en compte toutes les variables.\n",
    "\n",
    "Ici on sépare l'ensemble des données en deux : 80% des données pour l'apprentissage du classifieur et 20% des données pour le test de validation du modèle."
   ]
  },
  {
   "cell_type": "code",
   "execution_count": 6,
   "metadata": {
    "collapsed": false
   },
   "outputs": [
    {
     "name": "stdout",
     "output_type": "stream",
     "text": [
      "le score du classifieur sur les données de test est 0.766666666667\n"
     ]
    }
   ],
   "source": [
    "from sklearn import datasets\n",
    "from sklearn.svm import LinearSVC\n",
    "import numpy as np\n",
    "from math import fmod\n",
    "import matplotlib.pyplot as plt\n",
    "\n",
    "iris=datasets.load_iris()\n",
    "X=iris.data[:,:2]\n",
    "y=iris.target\n",
    "\n",
    "from sklearn.preprocessing import StandardScaler\n",
    "scaler=StandardScaler()\n",
    "X_std=scaler.fit_transform(X)\n",
    "\n",
    "from sklearn.cross_validation import train_test_split\n",
    "X_stdtrain, X_stdtest, y_train, y_test = train_test_split(X_std,y,test_size=0.2,random_state=50)\n",
    "\n",
    "clf_SVC=LinearSVC()\n",
    "clf_SVC.fit(X_stdtrain,y_train)\n",
    "clf_SVCscore=clf_SVC.score(X_stdtest,y_test)\n",
    "print \"le score du classifieur sur les données de test est\",clf_SVCscore"
   ]
  },
  {
   "cell_type": "code",
   "execution_count": 7,
   "metadata": {
    "collapsed": true
   },
   "outputs": [],
   "source": [
    "############################################################################\n",
    "########            Displaying labeled data                         ########\n",
    "############################################################################\n",
    "symlist = ['o', 's', 'D', '+', 'x',  '*', 'p', 'v', '-', '^','h','H']\n",
    "collist = ['blue', 'grey','red', 'purple', 'orange', 'salmon', 'black',\n",
    "           'fuchsia','chartreuse','burlywood']\n",
    "\n",
    "\n",
    "def plot_2d(data, y=None, w=None, alpha_choice=1):\n",
    "    \"\"\" Plot in 2D the dataset data, colors and symbols according to the\n",
    "    class given by the vector y (if given); the separating hyperplan w can\n",
    "    also be displayed if asked\"\"\"\n",
    "    if y is None:\n",
    "        labs = [\"\"]\n",
    "        idxbyclass = [range(data.shape[0])]\n",
    "    else:\n",
    "        labs = np.unique(y)\n",
    "        idxbyclass = [np.where(y == labs[i])[0] for i in range(len(labs))]\n",
    "\n",
    "    for i in range(len(labs)):\n",
    "        plt.plot(data[idxbyclass[i], 0], data[idxbyclass[i], 1], '+',\n",
    "                 color=collist[i % len(collist)], ls='None',\n",
    "                 marker=symlist[i % len(symlist)])\n",
    "    plt.ylim([np.min(data[:, 1]), np.max(data[:, 1])])\n",
    "    plt.xlim([np.min(data[:, 0]), np.max(data[:, 0])])\n",
    "    mx = np.min(data[:, 0])\n",
    "    maxx = np.max(data[:, 0])\n",
    "    if w is not None:\n",
    "        plt.plot([mx, maxx], [mx * -w[1] / w[2] - w[0] / w[2],\n",
    "                              maxx * -w[1] / w[2] - w[0] / w[2]],\n",
    "                 \"g\", alpha=alpha_choice)\n",
    "\n",
    "def plot_2d_simple(data,y=None):\n",
    "    if y==None:\n",
    "        plt.scatter(data[:,0],data[:,1],s=50)\n",
    "    else:\n",
    "        nY=len(y)\n",
    "        Ycol=[collist[ y.astype(int)[i] -1 % len(collist)] for i in xrange(nY)]\n",
    "        plt.scatter(data[:,0],data[:,1],c=Ycol,s=40 )\n",
    "\n",
    "############################################################################\n",
    "########            Displaying tools for the Frontiere              ########\n",
    "############################################################################\n",
    "\n",
    "\n",
    "from matplotlib import colors\n",
    "cmap = colors.ListedColormap([ 'SteelBlue','DarkGray', 'LightSalmon', 'LightPink'])\n",
    "bounds=[0,1,2]\n",
    "norm = colors.BoundaryNorm(bounds, cmap.N)\n",
    "\n",
    "\n",
    "def frontiere(f, data, step=50):\n",
    "    \"\"\" Plot the frontier of a decision function f\"\"\"\n",
    "    xmin, xmax = data[:, 0].min() - 1., data[:, 0].max() + 1.\n",
    "    ymin, ymax = data[:, 1].min() - 1., data[:, 1].max() + 1.\n",
    "    xx, yy = np.meshgrid(np.arange(xmin, xmax, (xmax - xmin) * 1. / step),\n",
    "                         np.arange(ymin, ymax, (ymax - ymin) * 1. / step))\n",
    "    z = np.array([f(vec) for vec in np.c_[xx.ravel(), yy.ravel()]])\n",
    "    z = z.reshape(xx.shape)\n",
    "    #plt.imshow(z, origin='lower', interpolation=\"nearest\",extent=[xmin, xmax, ymin, ymax], cmap=cm.jet)\n",
    "    plt.imshow(z, origin='lower', interpolation=\"nearest\",\n",
    "                extent=[xmin, xmax, ymin, ymax], cmap=cmap)  \n",
    "\n",
    "    plt.colorbar()\n",
    "\n"
   ]
  },
  {
   "cell_type": "code",
   "execution_count": 22,
   "metadata": {
    "collapsed": false
   },
   "outputs": [
    {
     "data": {
      "image/png": "[encoded data removed]",
      "text/plain": [
       "<matplotlib.figure.Figure at 0x7f04d64e9650>"
      ]
     },
     "metadata": {},
     "output_type": "display_data"
    }
   ],
   "source": [
    "%matplotlib inline\n",
    "\n",
    "plot_2d(X_std,y)\n",
    "\"\"\"decisionf=clf_SVC.decision_function()\n",
    "frontiere(decisionf,X_std,step=50)\"\"\"\n",
    "plt.show()"
   ]
  },
  {
   "cell_type": "markdown",
   "metadata": {},
   "source": [
    "5.En laissant la moitié des données de côté, évaluer la performance en généralisation\n",
    "du modèle. Pour ce faire, vous déterminerez C par validation croisée en 5 étapes\n",
    "(scores = cross_val_score(clf, X, y, cv=5)). Comparer le résultat avec une SVM polynomiale."
   ]
  },
  {
   "cell_type": "markdown",
   "metadata": {},
   "source": [
    "Pour calculer le meilleur coefficient C de régularisation on utilise la fonction cross_val_score de la librairie cross_validation de sklearn. Celle-ci nous permet d'utiliser l'algorithme k-fold pour calculer le meilleur paramètre sur les données d'apprentissage. Attention, la validation croisée n'est effectuée que sur les données d'apprentissage."
   ]
  },
  {
   "cell_type": "code",
   "execution_count": 29,
   "metadata": {
    "collapsed": false
   },
   "outputs": [
    {
     "name": "stdout",
     "output_type": "stream",
     "text": [
      "{1: 0.80222965440356742, 100: 0.78455964325529537, 5: 0.80992196209587508, 1000: 0.70738573021181717, 10: 0.80992196209587508, 15: 0.80992196209587508, 10000: 0.77486064659977705}\n",
      "le score obtenu le plus élevé pour un noyau linéaire est 0.809921962096\n"
     ]
    }
   ],
   "source": [
    "from sklearn.svm import LinearSVC\n",
    "from sklearn.cross_validation import cross_val_score\n",
    "scores = {}\n",
    "for c in [1,5,10,15,100,1000,10000] :\n",
    "    clf_SVC=LinearSVC(C=c)\n",
    "    scores[c] = np.mean(cross_val_score(clf_SVC, X_stdtrain, y_train, cv=5, scoring='accuracy'))\n",
    "print(scores)\n",
    "print \"le score obtenu le plus élevé pour un noyau linéaire est\",max(scores.values())"
   ]
  },
  {
   "cell_type": "markdown",
   "metadata": {},
   "source": [
    "On réalise la même opération avec un classifieur SVC utilisant un noyau polynomial. On ne joue ici que sur C et pas sur le degré du noyau polynomial (degré 3 par défaut)."
   ]
  },
  {
   "cell_type": "code",
   "execution_count": 30,
   "metadata": {
    "collapsed": false
   },
   "outputs": [
    {
     "name": "stdout",
     "output_type": "stream",
     "text": [
      "{1: 0.6991360089186176, 100: 0.72686733556298766, 5: 0.70947603121516167, 1000: 0.72686733556298766, 10: 0.69208472686733546, 15: 0.69208472686733546, 10000: 0.72686733556298766}\n",
      "le score obtenu le plus élevé pour un noyau polynomial est 0.726867335563\n"
     ]
    }
   ],
   "source": [
    "from sklearn.svm import SVC\n",
    "from sklearn.cross_validation import cross_val_score\n",
    "scores = {}\n",
    "for c in [1,5,10,15,100,1000,10000] :\n",
    "    clf_SVC=SVC(C=c,kernel='poly')\n",
    "    scores[c] = np.mean(cross_val_score(clf_SVC, X_stdtrain, y_train, cv=5, scoring='accuracy'))\n",
    "print(scores)\n",
    "print \"le score obtenu le plus élevé pour un noyau polynomial est\",max(scores.values())"
   ]
  },
  {
   "cell_type": "markdown",
   "metadata": {},
   "source": [
    "On s'aperçoit que le score obtenu est plus faible, ce qui signifie que le modèle polynomial se généralise moins bien que le modèle linéaire sur des nouvelles données. On constate à nouveau que plus C est élevé meilleur sont les résultats, ce qui est conforme à nos attentes car le modèle s'attache moins aux données."
   ]
  },
  {
   "cell_type": "markdown",
   "metadata": {},
   "source": [
    "6.En vous inspirant de l’exemple http://scikit-learn.org/stable/auto_examples/svm/plot_\n",
    "rbf_parameters.html (mais sans utiliser MidpointNormalize), afficher une carte de performance\n",
    "du noyau gaussien appliqué aux données d’apprentissage (on utilisera que 13 valeurs en base 2 pour\n",
    "C et γ)"
   ]
  },
  {
   "cell_type": "code",
   "execution_count": null,
   "metadata": {
    "collapsed": true
   },
   "outputs": [],
   "source": []
  },
  {
   "cell_type": "markdown",
   "metadata": {},
   "source": [
    "7. Dans la suite, on s’intéresse à un problème de classification de visages. À partir du script\n",
    "svm_lfw.py, montrer l’influence du paramètre de régularisation. On pourra par exemple afficher\n",
    "l’erreur de prédiction (en test) en fonction de C sur une échelle logarithmique entre 1e-6 et 1e3."
   ]
  },
  {
   "cell_type": "markdown",
   "metadata": {},
   "source": [
    "8. Le script que vous utilisez centre et normalise les données. Décrire comment et expliquer l’intérêt\n",
    "de cette opération."
   ]
  },
  {
   "cell_type": "markdown",
   "metadata": {},
   "source": [
    "9. En conservant les données précédemment créées et pour différentes tailles de l’ensemble d’apprentissage,\n",
    "évaluer la performance en généralisation d’une SVM linéaire (pour ce faire, choisir C par\n",
    "validation croisée et enregistrer le score en test). Tracer la courbe d’apprentissage (i.e. le score en\n",
    "fonction de la taille de l’ensemble d’apprentissage). Cette dernière est une approche empirique de\n",
    "la consistance de notre estimateur."
   ]
  },
  {
   "cell_type": "markdown",
   "metadata": {},
   "source": [
    "10. L’exemple http://scikit-learn.org/stable/auto_examples/svm/plot_separating_\n",
    "hyperplane.html#example-svm-plot-separating-hyperplane-py explique comment accé-\n",
    "der au paramètres estimés lors de l’apprentissage : vecteur de coefficients w dans l’attribut\n",
    "coef_, w0 enregistré dans l’attribut intercept, liste des vecteurs de supports, coefficients du\n",
    "problème dual). À partir de cet exemple, écrire un script qui calcule la valeur des fonctionnelles\n",
    "primale et duale. Vérifier que les valeurs sont proches (attention, les étiquettes doivent être −1\n",
    "ou 1). Comment varie la différence entre les deux valeurs quand on fait varier la tolérance sur\n",
    "l’optimisation (paramètre tol de SVC) ?\n",
    "Régression"
   ]
  },
  {
   "cell_type": "markdown",
   "metadata": {},
   "source": [
    "11. On s’intéresse à présent à prédire l’activité d’une molécule. Pour ce faire, nous considérons une\n",
    "molécule comme un graphe étiqueté, représenté par un ensemble de relations entre ses nœuds (les\n",
    "atomes de la molécule). En suivant ces relations au sein d’une molécule x, on parcourt un chemin p\n",
    "dans le graphe correspondant. Soit alors Pd l’ensemble des chemins possibles (de longueur inférieure\n",
    "à d) pour la famille de graphes considérée. On note ı(x, p), l’indicateur valant 1 si le chemin p est\n",
    "présent dans le graphe x, et 0 sinon. \n",
    "À partir du fichier drug_activity.py 1, donner le meilleur score possible en prédiction sur le jeu de\n",
    "données test à l’aide d’une machine à vecteurs supports. Les données de test ne doivent pas intervenir\n",
    "dans l’apprentissage. Comparer avec la régression régularisée. Changer la mesure d’erreur."
   ]
  },
  {
   "cell_type": "markdown",
   "metadata": {},
   "source": [
    "###Classification de textes###\n",
    "12. Travailler sur le tutoriel : http://scikit-learn.org/stable/tutorial/text_analytics/working_with_text_data.html."
   ]
  }
 ],
 "metadata": {
  "kernelspec": {
   "display_name": "Python 2",
   "language": "python",
   "name": "python2"
  },
  "language_info": {
   "codemirror_mode": {
    "name": "ipython",
    "version": 2
   },
   "file_extension": ".py",
   "mimetype": "text/x-python",
   "name": "python",
   "nbconvert_exporter": "python",
   "pygments_lexer": "ipython2",
   "version": "2.7.11"
  }
 },
 "nbformat": 4,
 "nbformat_minor": 0
}
